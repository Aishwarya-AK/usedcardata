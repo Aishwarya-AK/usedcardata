{
 "cells": [
  {
   "cell_type": "code",
   "execution_count": null,
   "id": "5f36e982-1d68-47a8-a34a-6a1f6d97e285",
   "metadata": {},
   "outputs": [],
   "source": [
    "import numpy as np\n",
    "import pandas as pd\n",
    "import matplotlib.pyplot as plt\n",
    "%matplotlib inline"
   ]
  },
  {
   "cell_type": "code",
   "execution_count": null,
   "id": "568acdd7-5ea2-4f30-b96d-41a5d7c103a8",
   "metadata": {},
   "outputs": [],
   "source": [
    "data=pd.read_csv('used_car_dataset.csv')"
   ]
  },
  {
   "cell_type": "code",
   "execution_count": null,
   "id": "e3d71737-2c61-44a2-b28f-a6dc6fd366c0",
   "metadata": {},
   "outputs": [],
   "source": [
    "data.head()"
   ]
  },
  {
   "cell_type": "code",
   "execution_count": null,
   "id": "00f5e82f-3f72-427b-9838-f20b3ffe94b0",
   "metadata": {},
   "outputs": [],
   "source": [
    "data['AskPrice']. describe()"
   ]
  },
  {
   "cell_type": "code",
   "execution_count": null,
   "id": "fba78bfc-9827-4595-ab7c-1153b7b46376",
   "metadata": {},
   "outputs": [],
   "source": [
    "data['Age'].mean()"
   ]
  },
  {
   "cell_type": "code",
   "execution_count": null,
   "id": "dd214f47-c8e7-4333-9352-5223b2acf3a5",
   "metadata": {},
   "outputs": [],
   "source": [
    "data['Age'].median()"
   ]
  },
  {
   "cell_type": "code",
   "execution_count": null,
   "id": "b1cb23b9-5aee-4c95-8deb-90bbee5a71a7",
   "metadata": {},
   "outputs": [],
   "source": [
    "data['Age'].plot(kind='box', vert=False, figsize=(14,8))"
   ]
  },
  {
   "cell_type": "code",
   "execution_count": null,
   "id": "db40e62e-7342-4754-aa50-e433c41b1bbd",
   "metadata": {},
   "outputs": [],
   "source": [
    "ax=data['Age'].plot(kind='hist', figsize=(14,7))\n",
    "ax.set_xlabel('AskPrice')\n",
    "ax.set_ylabel('Year')"
   ]
  },
  {
   "cell_type": "code",
   "execution_count": null,
   "id": "1a990a70-67a5-49c0-9dab-5901cf7204d0",
   "metadata": {},
   "outputs": [],
   "source": [
    "ax=data['Age'].plot(kind='density', figsize=(14,6))"
   ]
  },
  {
   "cell_type": "code",
   "execution_count": null,
   "id": "c41bd2e8-d0bd-4b21-94d1-9c11c53c91b6",
   "metadata": {},
   "outputs": [],
   "source": [
    "ax=data['Age'].plot(kind='density', figsize=(14,6))\n",
    "ax.axvline(data['Age'].mean(), color='Green')\n",
    "ax.axvline(data['Age'].median(), color='Red')"
   ]
  },
  {
   "cell_type": "code",
   "execution_count": null,
   "id": "e741c10c-dea6-441b-a5b2-c2824142af6f",
   "metadata": {},
   "outputs": [],
   "source": [
    "data['Age'].value_counts()"
   ]
  },
  {
   "cell_type": "code",
   "execution_count": null,
   "id": "9f244108-fa84-4867-800f-1b72ca9893f2",
   "metadata": {},
   "outputs": [],
   "source": [
    "data['Age'].value_counts().plot(kind='pie', figsize=(14,5))"
   ]
  },
  {
   "cell_type": "code",
   "execution_count": null,
   "id": "62844526-ce3f-4e4f-b86b-12643abeb095",
   "metadata": {},
   "outputs": [],
   "source": [
    "ax=data['Age'].value_counts().plot(kind='bar', color='Grey', figsize=(14,4))\n",
    "ax.set_ylabel('Year')                                            "
   ]
  },
  {
   "cell_type": "code",
   "execution_count": null,
   "id": "04736ea6-196b-4e8d-abba-99fcc8459989",
   "metadata": {},
   "outputs": [],
   "source": []
  }
 ],
 "metadata": {
  "kernelspec": {
   "display_name": "anaconda-ai-2024.04-py310",
   "language": "python",
   "name": "conda-env-anaconda-ai-2024.04-py310-py"
  },
  "language_info": {
   "codemirror_mode": {
    "name": "ipython",
    "version": 3
   },
   "file_extension": ".py",
   "mimetype": "text/x-python",
   "name": "python",
   "nbconvert_exporter": "python",
   "pygments_lexer": "ipython3",
   "version": "3.10.13"
  }
 },
 "nbformat": 4,
 "nbformat_minor": 5
}
